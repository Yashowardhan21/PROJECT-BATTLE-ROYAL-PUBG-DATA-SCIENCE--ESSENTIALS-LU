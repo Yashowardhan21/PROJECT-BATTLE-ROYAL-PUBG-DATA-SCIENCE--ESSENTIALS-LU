{
 "cells": [
  {
   "cell_type": "markdown",
   "metadata": {},
   "source": [
    "# DATA SCIENCE PROJECT"
   ]
  },
  {
   "cell_type": "markdown",
   "metadata": {},
   "source": [
    "IMPORTING MODULES"
   ]
  },
  {
   "cell_type": "code",
   "execution_count": 2,
   "metadata": {},
   "outputs": [],
   "source": [
    "import pandas as pd\n",
    "import numpy as np\n",
    "import seaborn as sns\n",
    "import matplotlib.pyplot as plt"
   ]
  },
  {
   "cell_type": "markdown",
   "metadata": {},
   "source": [
    "TASK 1"
   ]
  },
  {
   "cell_type": "code",
   "execution_count": 7,
   "metadata": {},
   "outputs": [
    {
     "data": {
      "text/html": [
       "<div>\n",
       "<style scoped>\n",
       "    .dataframe tbody tr th:only-of-type {\n",
       "        vertical-align: middle;\n",
       "    }\n",
       "\n",
       "    .dataframe tbody tr th {\n",
       "        vertical-align: top;\n",
       "    }\n",
       "\n",
       "    .dataframe thead th {\n",
       "        text-align: right;\n",
       "    }\n",
       "</style>\n",
       "<table border=\"1\" class=\"dataframe\">\n",
       "  <thead>\n",
       "    <tr style=\"text-align: right;\">\n",
       "      <th></th>\n",
       "      <th>Id</th>\n",
       "      <th>groupId</th>\n",
       "      <th>matchId</th>\n",
       "      <th>assists</th>\n",
       "      <th>boosts</th>\n",
       "      <th>damageDealt</th>\n",
       "      <th>DBNOs</th>\n",
       "      <th>headshotKills</th>\n",
       "      <th>heals</th>\n",
       "      <th>killPlace</th>\n",
       "      <th>...</th>\n",
       "      <th>revives</th>\n",
       "      <th>rideDistance</th>\n",
       "      <th>roadKills</th>\n",
       "      <th>swimDistance</th>\n",
       "      <th>teamKills</th>\n",
       "      <th>vehicleDestroys</th>\n",
       "      <th>walkDistance</th>\n",
       "      <th>weaponsAcquired</th>\n",
       "      <th>winPoints</th>\n",
       "      <th>winPlacePerc</th>\n",
       "    </tr>\n",
       "  </thead>\n",
       "  <tbody>\n",
       "    <tr>\n",
       "      <th>0</th>\n",
       "      <td>2f262dd9795e60</td>\n",
       "      <td>78437bcd91d40e</td>\n",
       "      <td>d5db3a49eb2955</td>\n",
       "      <td>0</td>\n",
       "      <td>0</td>\n",
       "      <td>0.0</td>\n",
       "      <td>0</td>\n",
       "      <td>0</td>\n",
       "      <td>0</td>\n",
       "      <td>92</td>\n",
       "      <td>...</td>\n",
       "      <td>0</td>\n",
       "      <td>0.0</td>\n",
       "      <td>0</td>\n",
       "      <td>0.0</td>\n",
       "      <td>0</td>\n",
       "      <td>0</td>\n",
       "      <td>0.00</td>\n",
       "      <td>0</td>\n",
       "      <td>1470</td>\n",
       "      <td>0.0000</td>\n",
       "    </tr>\n",
       "    <tr>\n",
       "      <th>1</th>\n",
       "      <td>a32847cf5bf34b</td>\n",
       "      <td>85b7ce5a12e10b</td>\n",
       "      <td>65223f05c7fdb4</td>\n",
       "      <td>0</td>\n",
       "      <td>0</td>\n",
       "      <td>163.2</td>\n",
       "      <td>1</td>\n",
       "      <td>1</td>\n",
       "      <td>0</td>\n",
       "      <td>42</td>\n",
       "      <td>...</td>\n",
       "      <td>0</td>\n",
       "      <td>0.0</td>\n",
       "      <td>0</td>\n",
       "      <td>0.0</td>\n",
       "      <td>0</td>\n",
       "      <td>0</td>\n",
       "      <td>132.70</td>\n",
       "      <td>2</td>\n",
       "      <td>1531</td>\n",
       "      <td>0.2222</td>\n",
       "    </tr>\n",
       "    <tr>\n",
       "      <th>2</th>\n",
       "      <td>1b1900a9990396</td>\n",
       "      <td>edf80d6523380a</td>\n",
       "      <td>1cadec4534f30a</td>\n",
       "      <td>0</td>\n",
       "      <td>3</td>\n",
       "      <td>278.7</td>\n",
       "      <td>2</td>\n",
       "      <td>1</td>\n",
       "      <td>8</td>\n",
       "      <td>16</td>\n",
       "      <td>...</td>\n",
       "      <td>3</td>\n",
       "      <td>0.0</td>\n",
       "      <td>0</td>\n",
       "      <td>0.0</td>\n",
       "      <td>0</td>\n",
       "      <td>0</td>\n",
       "      <td>3591.00</td>\n",
       "      <td>10</td>\n",
       "      <td>0</td>\n",
       "      <td>0.8571</td>\n",
       "    </tr>\n",
       "    <tr>\n",
       "      <th>3</th>\n",
       "      <td>f589dd03b60bf2</td>\n",
       "      <td>804ab5e5585558</td>\n",
       "      <td>c4a5676dc91604</td>\n",
       "      <td>0</td>\n",
       "      <td>0</td>\n",
       "      <td>191.9</td>\n",
       "      <td>1</td>\n",
       "      <td>0</td>\n",
       "      <td>0</td>\n",
       "      <td>31</td>\n",
       "      <td>...</td>\n",
       "      <td>0</td>\n",
       "      <td>0.0</td>\n",
       "      <td>0</td>\n",
       "      <td>0.0</td>\n",
       "      <td>0</td>\n",
       "      <td>0</td>\n",
       "      <td>332.70</td>\n",
       "      <td>3</td>\n",
       "      <td>0</td>\n",
       "      <td>0.3462</td>\n",
       "    </tr>\n",
       "    <tr>\n",
       "      <th>4</th>\n",
       "      <td>c23c4cc5b78b35</td>\n",
       "      <td>b3e2cd169ed920</td>\n",
       "      <td>cd595700a01bfa</td>\n",
       "      <td>0</td>\n",
       "      <td>0</td>\n",
       "      <td>100.0</td>\n",
       "      <td>1</td>\n",
       "      <td>0</td>\n",
       "      <td>0</td>\n",
       "      <td>87</td>\n",
       "      <td>...</td>\n",
       "      <td>0</td>\n",
       "      <td>0.0</td>\n",
       "      <td>0</td>\n",
       "      <td>0.0</td>\n",
       "      <td>0</td>\n",
       "      <td>0</td>\n",
       "      <td>252.70</td>\n",
       "      <td>3</td>\n",
       "      <td>1557</td>\n",
       "      <td>0.0690</td>\n",
       "    </tr>\n",
       "    <tr>\n",
       "      <th>...</th>\n",
       "      <td>...</td>\n",
       "      <td>...</td>\n",
       "      <td>...</td>\n",
       "      <td>...</td>\n",
       "      <td>...</td>\n",
       "      <td>...</td>\n",
       "      <td>...</td>\n",
       "      <td>...</td>\n",
       "      <td>...</td>\n",
       "      <td>...</td>\n",
       "      <td>...</td>\n",
       "      <td>...</td>\n",
       "      <td>...</td>\n",
       "      <td>...</td>\n",
       "      <td>...</td>\n",
       "      <td>...</td>\n",
       "      <td>...</td>\n",
       "      <td>...</td>\n",
       "      <td>...</td>\n",
       "      <td>...</td>\n",
       "      <td>...</td>\n",
       "    </tr>\n",
       "    <tr>\n",
       "      <th>9995</th>\n",
       "      <td>ef4f474acd8e85</td>\n",
       "      <td>2eca2a8391f75d</td>\n",
       "      <td>492ecdfae90b46</td>\n",
       "      <td>0</td>\n",
       "      <td>3</td>\n",
       "      <td>204.5</td>\n",
       "      <td>1</td>\n",
       "      <td>0</td>\n",
       "      <td>0</td>\n",
       "      <td>17</td>\n",
       "      <td>...</td>\n",
       "      <td>3</td>\n",
       "      <td>0.0</td>\n",
       "      <td>0</td>\n",
       "      <td>0.0</td>\n",
       "      <td>0</td>\n",
       "      <td>0</td>\n",
       "      <td>1648.00</td>\n",
       "      <td>4</td>\n",
       "      <td>1471</td>\n",
       "      <td>0.8333</td>\n",
       "    </tr>\n",
       "    <tr>\n",
       "      <th>9996</th>\n",
       "      <td>cf0bf82fb4d80e</td>\n",
       "      <td>2eaf2765f93adb</td>\n",
       "      <td>14bffd71e96320</td>\n",
       "      <td>0</td>\n",
       "      <td>0</td>\n",
       "      <td>0.0</td>\n",
       "      <td>0</td>\n",
       "      <td>0</td>\n",
       "      <td>0</td>\n",
       "      <td>49</td>\n",
       "      <td>...</td>\n",
       "      <td>0</td>\n",
       "      <td>0.0</td>\n",
       "      <td>0</td>\n",
       "      <td>0.0</td>\n",
       "      <td>0</td>\n",
       "      <td>0</td>\n",
       "      <td>897.10</td>\n",
       "      <td>6</td>\n",
       "      <td>1500</td>\n",
       "      <td>0.7174</td>\n",
       "    </tr>\n",
       "    <tr>\n",
       "      <th>9997</th>\n",
       "      <td>a0a31a0b1dcbe1</td>\n",
       "      <td>8d50c64ccc5071</td>\n",
       "      <td>147e4bbb62e3bb</td>\n",
       "      <td>0</td>\n",
       "      <td>0</td>\n",
       "      <td>0.0</td>\n",
       "      <td>0</td>\n",
       "      <td>0</td>\n",
       "      <td>0</td>\n",
       "      <td>83</td>\n",
       "      <td>...</td>\n",
       "      <td>0</td>\n",
       "      <td>0.0</td>\n",
       "      <td>0</td>\n",
       "      <td>0.0</td>\n",
       "      <td>0</td>\n",
       "      <td>0</td>\n",
       "      <td>188.20</td>\n",
       "      <td>2</td>\n",
       "      <td>1434</td>\n",
       "      <td>0.2083</td>\n",
       "    </tr>\n",
       "    <tr>\n",
       "      <th>9998</th>\n",
       "      <td>f6874657399d69</td>\n",
       "      <td>d31843d7e62ccb</td>\n",
       "      <td>662567dcf280f5</td>\n",
       "      <td>0</td>\n",
       "      <td>0</td>\n",
       "      <td>0.0</td>\n",
       "      <td>0</td>\n",
       "      <td>0</td>\n",
       "      <td>0</td>\n",
       "      <td>82</td>\n",
       "      <td>...</td>\n",
       "      <td>0</td>\n",
       "      <td>0.0</td>\n",
       "      <td>0</td>\n",
       "      <td>0.0</td>\n",
       "      <td>0</td>\n",
       "      <td>0</td>\n",
       "      <td>108.10</td>\n",
       "      <td>5</td>\n",
       "      <td>1534</td>\n",
       "      <td>0.2449</td>\n",
       "    </tr>\n",
       "    <tr>\n",
       "      <th>9999</th>\n",
       "      <td>90359b0b8f8b0d</td>\n",
       "      <td>61d5b1bb8da43f</td>\n",
       "      <td>258bfa48d88014</td>\n",
       "      <td>0</td>\n",
       "      <td>0</td>\n",
       "      <td>0.0</td>\n",
       "      <td>0</td>\n",
       "      <td>0</td>\n",
       "      <td>0</td>\n",
       "      <td>78</td>\n",
       "      <td>...</td>\n",
       "      <td>0</td>\n",
       "      <td>0.0</td>\n",
       "      <td>0</td>\n",
       "      <td>0.0</td>\n",
       "      <td>0</td>\n",
       "      <td>0</td>\n",
       "      <td>53.36</td>\n",
       "      <td>1</td>\n",
       "      <td>0</td>\n",
       "      <td>0.1875</td>\n",
       "    </tr>\n",
       "  </tbody>\n",
       "</table>\n",
       "<p>10000 rows × 29 columns</p>\n",
       "</div>"
      ],
      "text/plain": [
       "                  Id         groupId         matchId  assists  boosts  \\\n",
       "0     2f262dd9795e60  78437bcd91d40e  d5db3a49eb2955        0       0   \n",
       "1     a32847cf5bf34b  85b7ce5a12e10b  65223f05c7fdb4        0       0   \n",
       "2     1b1900a9990396  edf80d6523380a  1cadec4534f30a        0       3   \n",
       "3     f589dd03b60bf2  804ab5e5585558  c4a5676dc91604        0       0   \n",
       "4     c23c4cc5b78b35  b3e2cd169ed920  cd595700a01bfa        0       0   \n",
       "...              ...             ...             ...      ...     ...   \n",
       "9995  ef4f474acd8e85  2eca2a8391f75d  492ecdfae90b46        0       3   \n",
       "9996  cf0bf82fb4d80e  2eaf2765f93adb  14bffd71e96320        0       0   \n",
       "9997  a0a31a0b1dcbe1  8d50c64ccc5071  147e4bbb62e3bb        0       0   \n",
       "9998  f6874657399d69  d31843d7e62ccb  662567dcf280f5        0       0   \n",
       "9999  90359b0b8f8b0d  61d5b1bb8da43f  258bfa48d88014        0       0   \n",
       "\n",
       "      damageDealt  DBNOs  headshotKills  heals  killPlace  ...  revives  \\\n",
       "0             0.0      0              0      0         92  ...        0   \n",
       "1           163.2      1              1      0         42  ...        0   \n",
       "2           278.7      2              1      8         16  ...        3   \n",
       "3           191.9      1              0      0         31  ...        0   \n",
       "4           100.0      1              0      0         87  ...        0   \n",
       "...           ...    ...            ...    ...        ...  ...      ...   \n",
       "9995        204.5      1              0      0         17  ...        3   \n",
       "9996          0.0      0              0      0         49  ...        0   \n",
       "9997          0.0      0              0      0         83  ...        0   \n",
       "9998          0.0      0              0      0         82  ...        0   \n",
       "9999          0.0      0              0      0         78  ...        0   \n",
       "\n",
       "      rideDistance  roadKills  swimDistance  teamKills vehicleDestroys  \\\n",
       "0              0.0          0           0.0          0               0   \n",
       "1              0.0          0           0.0          0               0   \n",
       "2              0.0          0           0.0          0               0   \n",
       "3              0.0          0           0.0          0               0   \n",
       "4              0.0          0           0.0          0               0   \n",
       "...            ...        ...           ...        ...             ...   \n",
       "9995           0.0          0           0.0          0               0   \n",
       "9996           0.0          0           0.0          0               0   \n",
       "9997           0.0          0           0.0          0               0   \n",
       "9998           0.0          0           0.0          0               0   \n",
       "9999           0.0          0           0.0          0               0   \n",
       "\n",
       "      walkDistance  weaponsAcquired  winPoints  winPlacePerc  \n",
       "0             0.00                0       1470        0.0000  \n",
       "1           132.70                2       1531        0.2222  \n",
       "2          3591.00               10          0        0.8571  \n",
       "3           332.70                3          0        0.3462  \n",
       "4           252.70                3       1557        0.0690  \n",
       "...            ...              ...        ...           ...  \n",
       "9995       1648.00                4       1471        0.8333  \n",
       "9996        897.10                6       1500        0.7174  \n",
       "9997        188.20                2       1434        0.2083  \n",
       "9998        108.10                5       1534        0.2449  \n",
       "9999         53.36                1          0        0.1875  \n",
       "\n",
       "[10000 rows x 29 columns]"
      ]
     },
     "execution_count": 7,
     "metadata": {},
     "output_type": "execute_result"
    }
   ],
   "source": [
    "df = pd.read_csv(r'C:\\Users\\vasun\\Documents\\LETSUPGRADE\\pubg - Dr. Darshan Ingle.csv')\n",
    "df"
   ]
  },
  {
   "cell_type": "markdown",
   "metadata": {},
   "source": [
    "TASK2"
   ]
  },
  {
   "cell_type": "code",
   "execution_count": 16,
   "metadata": {},
   "outputs": [
    {
     "data": {
      "text/plain": [
       "Id                  object\n",
       "groupId             object\n",
       "matchId             object\n",
       "assists              int64\n",
       "boosts               int64\n",
       "damageDealt        float64\n",
       "DBNOs                int64\n",
       "headshotKills        int64\n",
       "heals                int64\n",
       "killPlace            int64\n",
       "killPoints           int64\n",
       "kills                int64\n",
       "killStreaks          int64\n",
       "longestKill        float64\n",
       "matchDuration        int64\n",
       "matchType           object\n",
       "maxPlace             int64\n",
       "numGroups            int64\n",
       "rankPoints           int64\n",
       "revives              int64\n",
       "rideDistance       float64\n",
       "roadKills            int64\n",
       "swimDistance       float64\n",
       "teamKills            int64\n",
       "vehicleDestroys      int64\n",
       "walkDistance       float64\n",
       "weaponsAcquired      int64\n",
       "winPoints            int64\n",
       "winPlacePerc       float64\n",
       "dtype: object"
      ]
     },
     "execution_count": 16,
     "metadata": {},
     "output_type": "execute_result"
    }
   ],
   "source": [
    "# checking datatype of all columns\n",
    "data_type = df.dtypes\n",
    "data_type"
   ]
  },
  {
   "cell_type": "markdown",
   "metadata": {},
   "source": [
    "TASK3\n"
   ]
  },
  {
   "cell_type": "code",
   "execution_count": 17,
   "metadata": {},
   "outputs": [
    {
     "data": {
      "text/html": [
       "<div>\n",
       "<style scoped>\n",
       "    .dataframe tbody tr th:only-of-type {\n",
       "        vertical-align: middle;\n",
       "    }\n",
       "\n",
       "    .dataframe tbody tr th {\n",
       "        vertical-align: top;\n",
       "    }\n",
       "\n",
       "    .dataframe thead th {\n",
       "        text-align: right;\n",
       "    }\n",
       "</style>\n",
       "<table border=\"1\" class=\"dataframe\">\n",
       "  <thead>\n",
       "    <tr style=\"text-align: right;\">\n",
       "      <th></th>\n",
       "      <th>assists</th>\n",
       "      <th>boosts</th>\n",
       "      <th>damageDealt</th>\n",
       "      <th>DBNOs</th>\n",
       "      <th>headshotKills</th>\n",
       "      <th>heals</th>\n",
       "      <th>killPlace</th>\n",
       "      <th>killPoints</th>\n",
       "      <th>kills</th>\n",
       "      <th>killStreaks</th>\n",
       "      <th>...</th>\n",
       "      <th>revives</th>\n",
       "      <th>rideDistance</th>\n",
       "      <th>roadKills</th>\n",
       "      <th>swimDistance</th>\n",
       "      <th>teamKills</th>\n",
       "      <th>vehicleDestroys</th>\n",
       "      <th>walkDistance</th>\n",
       "      <th>weaponsAcquired</th>\n",
       "      <th>winPoints</th>\n",
       "      <th>winPlacePerc</th>\n",
       "    </tr>\n",
       "  </thead>\n",
       "  <tbody>\n",
       "    <tr>\n",
       "      <th>count</th>\n",
       "      <td>10000.000000</td>\n",
       "      <td>10000.000000</td>\n",
       "      <td>10000.000000</td>\n",
       "      <td>10000.00000</td>\n",
       "      <td>10000.000000</td>\n",
       "      <td>10000.000000</td>\n",
       "      <td>10000.000000</td>\n",
       "      <td>10000.000000</td>\n",
       "      <td>10000.000000</td>\n",
       "      <td>10000.000000</td>\n",
       "      <td>...</td>\n",
       "      <td>10000.000000</td>\n",
       "      <td>10000.000000</td>\n",
       "      <td>10000.000000</td>\n",
       "      <td>10000.000000</td>\n",
       "      <td>10000.000000</td>\n",
       "      <td>10000.000000</td>\n",
       "      <td>10000.000000</td>\n",
       "      <td>10000.00000</td>\n",
       "      <td>10000.0000</td>\n",
       "      <td>10000.000000</td>\n",
       "    </tr>\n",
       "    <tr>\n",
       "      <th>mean</th>\n",
       "      <td>0.234600</td>\n",
       "      <td>1.088500</td>\n",
       "      <td>129.211264</td>\n",
       "      <td>0.64400</td>\n",
       "      <td>0.221700</td>\n",
       "      <td>1.354000</td>\n",
       "      <td>47.663100</td>\n",
       "      <td>506.970200</td>\n",
       "      <td>0.913400</td>\n",
       "      <td>0.543800</td>\n",
       "      <td>...</td>\n",
       "      <td>0.160200</td>\n",
       "      <td>600.693584</td>\n",
       "      <td>0.004200</td>\n",
       "      <td>4.385917</td>\n",
       "      <td>0.024400</td>\n",
       "      <td>0.007700</td>\n",
       "      <td>1130.008410</td>\n",
       "      <td>3.63590</td>\n",
       "      <td>609.3440</td>\n",
       "      <td>0.469926</td>\n",
       "    </tr>\n",
       "    <tr>\n",
       "      <th>std</th>\n",
       "      <td>0.575149</td>\n",
       "      <td>1.703279</td>\n",
       "      <td>167.193945</td>\n",
       "      <td>1.09562</td>\n",
       "      <td>0.577046</td>\n",
       "      <td>2.629102</td>\n",
       "      <td>27.424146</td>\n",
       "      <td>627.297959</td>\n",
       "      <td>1.524117</td>\n",
       "      <td>0.701948</td>\n",
       "      <td>...</td>\n",
       "      <td>0.454045</td>\n",
       "      <td>1524.915601</td>\n",
       "      <td>0.074719</td>\n",
       "      <td>30.889620</td>\n",
       "      <td>0.171486</td>\n",
       "      <td>0.089674</td>\n",
       "      <td>1168.597983</td>\n",
       "      <td>2.42209</td>\n",
       "      <td>739.7924</td>\n",
       "      <td>0.304508</td>\n",
       "    </tr>\n",
       "    <tr>\n",
       "      <th>min</th>\n",
       "      <td>0.000000</td>\n",
       "      <td>0.000000</td>\n",
       "      <td>0.000000</td>\n",
       "      <td>0.00000</td>\n",
       "      <td>0.000000</td>\n",
       "      <td>0.000000</td>\n",
       "      <td>1.000000</td>\n",
       "      <td>0.000000</td>\n",
       "      <td>0.000000</td>\n",
       "      <td>0.000000</td>\n",
       "      <td>...</td>\n",
       "      <td>0.000000</td>\n",
       "      <td>0.000000</td>\n",
       "      <td>0.000000</td>\n",
       "      <td>0.000000</td>\n",
       "      <td>0.000000</td>\n",
       "      <td>0.000000</td>\n",
       "      <td>0.000000</td>\n",
       "      <td>0.00000</td>\n",
       "      <td>0.0000</td>\n",
       "      <td>0.000000</td>\n",
       "    </tr>\n",
       "    <tr>\n",
       "      <th>25%</th>\n",
       "      <td>0.000000</td>\n",
       "      <td>0.000000</td>\n",
       "      <td>0.000000</td>\n",
       "      <td>0.00000</td>\n",
       "      <td>0.000000</td>\n",
       "      <td>0.000000</td>\n",
       "      <td>24.000000</td>\n",
       "      <td>0.000000</td>\n",
       "      <td>0.000000</td>\n",
       "      <td>0.000000</td>\n",
       "      <td>...</td>\n",
       "      <td>0.000000</td>\n",
       "      <td>0.000000</td>\n",
       "      <td>0.000000</td>\n",
       "      <td>0.000000</td>\n",
       "      <td>0.000000</td>\n",
       "      <td>0.000000</td>\n",
       "      <td>151.575000</td>\n",
       "      <td>2.00000</td>\n",
       "      <td>0.0000</td>\n",
       "      <td>0.200000</td>\n",
       "    </tr>\n",
       "    <tr>\n",
       "      <th>50%</th>\n",
       "      <td>0.000000</td>\n",
       "      <td>0.000000</td>\n",
       "      <td>83.805000</td>\n",
       "      <td>0.00000</td>\n",
       "      <td>0.000000</td>\n",
       "      <td>0.000000</td>\n",
       "      <td>48.000000</td>\n",
       "      <td>0.000000</td>\n",
       "      <td>0.000000</td>\n",
       "      <td>0.000000</td>\n",
       "      <td>...</td>\n",
       "      <td>0.000000</td>\n",
       "      <td>0.000000</td>\n",
       "      <td>0.000000</td>\n",
       "      <td>0.000000</td>\n",
       "      <td>0.000000</td>\n",
       "      <td>0.000000</td>\n",
       "      <td>650.350000</td>\n",
       "      <td>3.00000</td>\n",
       "      <td>0.0000</td>\n",
       "      <td>0.458300</td>\n",
       "    </tr>\n",
       "    <tr>\n",
       "      <th>75%</th>\n",
       "      <td>0.000000</td>\n",
       "      <td>2.000000</td>\n",
       "      <td>185.325000</td>\n",
       "      <td>1.00000</td>\n",
       "      <td>0.000000</td>\n",
       "      <td>2.000000</td>\n",
       "      <td>71.000000</td>\n",
       "      <td>1169.000000</td>\n",
       "      <td>1.000000</td>\n",
       "      <td>1.000000</td>\n",
       "      <td>...</td>\n",
       "      <td>0.000000</td>\n",
       "      <td>0.000575</td>\n",
       "      <td>0.000000</td>\n",
       "      <td>0.000000</td>\n",
       "      <td>0.000000</td>\n",
       "      <td>0.000000</td>\n",
       "      <td>1923.250000</td>\n",
       "      <td>5.00000</td>\n",
       "      <td>1495.0000</td>\n",
       "      <td>0.735100</td>\n",
       "    </tr>\n",
       "    <tr>\n",
       "      <th>max</th>\n",
       "      <td>7.000000</td>\n",
       "      <td>18.000000</td>\n",
       "      <td>3469.000000</td>\n",
       "      <td>11.00000</td>\n",
       "      <td>14.000000</td>\n",
       "      <td>31.000000</td>\n",
       "      <td>100.000000</td>\n",
       "      <td>1926.000000</td>\n",
       "      <td>35.000000</td>\n",
       "      <td>4.000000</td>\n",
       "      <td>...</td>\n",
       "      <td>5.000000</td>\n",
       "      <td>28780.000000</td>\n",
       "      <td>3.000000</td>\n",
       "      <td>971.200000</td>\n",
       "      <td>3.000000</td>\n",
       "      <td>2.000000</td>\n",
       "      <td>10490.000000</td>\n",
       "      <td>41.00000</td>\n",
       "      <td>1863.0000</td>\n",
       "      <td>1.000000</td>\n",
       "    </tr>\n",
       "  </tbody>\n",
       "</table>\n",
       "<p>8 rows × 25 columns</p>\n",
       "</div>"
      ],
      "text/plain": [
       "            assists        boosts   damageDealt        DBNOs  headshotKills  \\\n",
       "count  10000.000000  10000.000000  10000.000000  10000.00000   10000.000000   \n",
       "mean       0.234600      1.088500    129.211264      0.64400       0.221700   \n",
       "std        0.575149      1.703279    167.193945      1.09562       0.577046   \n",
       "min        0.000000      0.000000      0.000000      0.00000       0.000000   \n",
       "25%        0.000000      0.000000      0.000000      0.00000       0.000000   \n",
       "50%        0.000000      0.000000     83.805000      0.00000       0.000000   \n",
       "75%        0.000000      2.000000    185.325000      1.00000       0.000000   \n",
       "max        7.000000     18.000000   3469.000000     11.00000      14.000000   \n",
       "\n",
       "              heals     killPlace    killPoints         kills   killStreaks  \\\n",
       "count  10000.000000  10000.000000  10000.000000  10000.000000  10000.000000   \n",
       "mean       1.354000     47.663100    506.970200      0.913400      0.543800   \n",
       "std        2.629102     27.424146    627.297959      1.524117      0.701948   \n",
       "min        0.000000      1.000000      0.000000      0.000000      0.000000   \n",
       "25%        0.000000     24.000000      0.000000      0.000000      0.000000   \n",
       "50%        0.000000     48.000000      0.000000      0.000000      0.000000   \n",
       "75%        2.000000     71.000000   1169.000000      1.000000      1.000000   \n",
       "max       31.000000    100.000000   1926.000000     35.000000      4.000000   \n",
       "\n",
       "       ...       revives  rideDistance     roadKills  swimDistance  \\\n",
       "count  ...  10000.000000  10000.000000  10000.000000  10000.000000   \n",
       "mean   ...      0.160200    600.693584      0.004200      4.385917   \n",
       "std    ...      0.454045   1524.915601      0.074719     30.889620   \n",
       "min    ...      0.000000      0.000000      0.000000      0.000000   \n",
       "25%    ...      0.000000      0.000000      0.000000      0.000000   \n",
       "50%    ...      0.000000      0.000000      0.000000      0.000000   \n",
       "75%    ...      0.000000      0.000575      0.000000      0.000000   \n",
       "max    ...      5.000000  28780.000000      3.000000    971.200000   \n",
       "\n",
       "          teamKills  vehicleDestroys  walkDistance  weaponsAcquired  \\\n",
       "count  10000.000000     10000.000000  10000.000000      10000.00000   \n",
       "mean       0.024400         0.007700   1130.008410          3.63590   \n",
       "std        0.171486         0.089674   1168.597983          2.42209   \n",
       "min        0.000000         0.000000      0.000000          0.00000   \n",
       "25%        0.000000         0.000000    151.575000          2.00000   \n",
       "50%        0.000000         0.000000    650.350000          3.00000   \n",
       "75%        0.000000         0.000000   1923.250000          5.00000   \n",
       "max        3.000000         2.000000  10490.000000         41.00000   \n",
       "\n",
       "        winPoints  winPlacePerc  \n",
       "count  10000.0000  10000.000000  \n",
       "mean     609.3440      0.469926  \n",
       "std      739.7924      0.304508  \n",
       "min        0.0000      0.000000  \n",
       "25%        0.0000      0.200000  \n",
       "50%        0.0000      0.458300  \n",
       "75%     1495.0000      0.735100  \n",
       "max     1863.0000      1.000000  \n",
       "\n",
       "[8 rows x 25 columns]"
      ]
     },
     "execution_count": 17,
     "metadata": {},
     "output_type": "execute_result"
    }
   ],
   "source": [
    "# DataFrame.describe() is used to give out the summary of all the numerical columns in a dataframe\n",
    "# find the summary of all numerical columns and   write your findings about it.\n",
    "num_summary = df.describe()\n",
    "num_summary"
   ]
  },
  {
   "cell_type": "markdown",
   "metadata": {},
   "source": [
    "TASK4"
   ]
  },
  {
   "cell_type": "code",
   "execution_count": 18,
   "metadata": {},
   "outputs": [
    {
     "name": "stdout",
     "output_type": "stream",
     "text": [
      "\n",
      "The average person kills : 0.9134 player\n"
     ]
    }
   ],
   "source": [
    "# THE AVEARAGE PERSON KILLS HOW MANY PLAYERS ?\n",
    "avg = df['kills'].mean()\n",
    "print(\"\\nThe average person kills :\", avg,\"player\")"
   ]
  },
  {
   "cell_type": "markdown",
   "metadata": {},
   "source": [
    "TASK5"
   ]
  },
  {
   "cell_type": "code",
   "execution_count": 21,
   "metadata": {},
   "outputs": [
    {
     "name": "stdout",
     "output_type": "stream",
     "text": [
      "\n",
      "99% of people have 7.0 kills\n"
     ]
    }
   ],
   "source": [
    "# 99% OF PEOPLE HAVE HOW  MANY KILLS \n",
    "nn_per = df[\"kills\"].quantile(0.99)\n",
    "print(\"\\n99% of people have\",nn_per,\"kills\")"
   ]
  },
  {
   "cell_type": "markdown",
   "metadata": {},
   "source": [
    "TASK6"
   ]
  },
  {
   "cell_type": "code",
   "execution_count": 22,
   "metadata": {},
   "outputs": [
    {
     "name": "stdout",
     "output_type": "stream",
     "text": [
      "\n",
      "The most kill ever recorded are : 35\n"
     ]
    }
   ],
   "source": [
    "# MOST KILLS EVER RECORDED ARE HOW MUCH ?\n",
    "most_kill = df[\"kills\"].max()\n",
    "print(\"\\nThe most kill ever recorded are :\",most_kill)"
   ]
  },
  {
   "cell_type": "markdown",
   "metadata": {},
   "source": [
    "TASK7"
   ]
  },
  {
   "cell_type": "code",
   "execution_count": 8,
   "metadata": {},
   "outputs": [
    {
     "data": {
      "text/plain": [
       "Index(['Id', 'groupId', 'matchId', 'assists', 'boosts', 'damageDealt', 'DBNOs',\n",
       "       'headshotKills', 'heals', 'killPlace', 'killPoints', 'kills',\n",
       "       'killStreaks', 'longestKill', 'matchDuration', 'matchType', 'maxPlace',\n",
       "       'numGroups', 'rankPoints', 'revives', 'rideDistance', 'roadKills',\n",
       "       'swimDistance', 'teamKills', 'vehicleDestroys', 'walkDistance',\n",
       "       'weaponsAcquired', 'winPoints', 'winPlacePerc'],\n",
       "      dtype='object')"
      ]
     },
     "execution_count": 8,
     "metadata": {},
     "output_type": "execute_result"
    }
   ],
   "source": [
    "# PRINT ALL THE COLUMNS OF DATA FRAME\n",
    "df.columns"
   ]
  },
  {
   "cell_type": "markdown",
   "metadata": {},
   "source": [
    "TASK8"
   ]
  },
  {
   "cell_type": "code",
   "execution_count": 24,
   "metadata": {},
   "outputs": [
    {
     "data": {
      "image/png": "[encoded data removed]",
      "text/plain": [
       "<Figure size 432x288 with 1 Axes>"
      ]
     },
     "metadata": {
      "needs_background": "light"
     },
     "output_type": "display_data"
    }
   ],
   "source": [
    "#  COMMENT ON THE DISTRIBUTION OF MATCH'S DURATION. Use Seaborn.\n",
    "sns.distplot( df['matchDuration'] );\n"
   ]
  },
  {
   "cell_type": "markdown",
   "metadata": {},
   "source": [
    "TASK 9"
   ]
  },
  {
   "cell_type": "code",
   "execution_count": 25,
   "metadata": {},
   "outputs": [
    {
     "data": {
      "image/png": "[encoded data removed]",
      "text/plain": [
       "<Figure size 432x288 with 1 Axes>"
      ]
     },
     "metadata": {
      "needs_background": "light"
     },
     "output_type": "display_data"
    }
   ],
   "source": [
    "#  comment ont= the distribution of walk distance. Use Seaborn.\n",
    "sns.distplot( df['walkDistance'] );"
   ]
  },
  {
   "cell_type": "markdown",
   "metadata": {},
   "source": [
    "TASK 10"
   ]
  },
  {
   "cell_type": "code",
   "execution_count": 26,
   "metadata": {},
   "outputs": [
    {
     "data": {
      "text/plain": [
       "Text(0.5, 0, 'Walk Distance')"
      ]
     },
     "execution_count": 26,
     "metadata": {},
     "output_type": "execute_result"
    },
    {
     "data": {
      "image/png": "[encoded data removed]",
      "text/plain": [
       "<Figure size 640x480 with 2 Axes>"
      ]
     },
     "metadata": {},
     "output_type": "display_data"
    }
   ],
   "source": [
    "#  Plot the distribution of the match's duration vs walk distance one below the other.\n",
    "%matplotlib inline\n",
    "plt.style.use('classic')\n",
    "plt.figure()\n",
    "\n",
    "# ploting for matchDuration\n",
    "plt.subplot(2,1,1)\n",
    "plt.plot(df[\"matchDuration\"],\"-\")\n",
    "plt.xlabel(\"Match Duration\")\n",
    "\n",
    "# ploting for walkDistance\n",
    "plt.subplot(2,1,2)\n",
    "plt.plot(df[\"walkDistance\"],\"--\")\n",
    "plt.xlabel(\"Walk Distance\")"
   ]
  },
  {
   "cell_type": "markdown",
   "metadata": {},
   "source": [
    "TASK 11"
   ]
  },
  {
   "cell_type": "code",
   "execution_count": 27,
   "metadata": {
    "collapsed": true
   },
   "outputs": [
    {
     "data": {
      "text/plain": [
       "Text(0.5, 0, 'Walk Distance')"
      ]
     },
     "execution_count": 27,
     "metadata": {},
     "output_type": "execute_result"
    },
    {
     "data": {
      "image/png": "[encoded data removed]",
      "text/plain": [
       "<Figure size 800x400 with 2 Axes>"
      ]
     },
     "metadata": {},
     "output_type": "display_data"
    }
   ],
   "source": [
    "# Plot distribution of the match's duration vs walk distance side by side.\n",
    "%matplotlib inline\n",
    "plt.style.use('classic')\n",
    "plt.figure(figsize=(10,5))\n",
    "\n",
    "# ploting for matchDuration\n",
    "plt.subplot(1,2,1)\n",
    "plt.plot(df[\"matchDuration\"])\n",
    "plt.xlabel(\"Match Duration\")\n",
    "\n",
    "# ploting for walkDistance\n",
    "plt.subplot(1,2,2)\n",
    "plt.plot(df[\"walkDistance\"])\n",
    "plt.xlabel(\"Walk Distance\")"
   ]
  },
  {
   "cell_type": "markdown",
   "metadata": {},
   "source": [
    "TASK 12"
   ]
  },
  {
   "cell_type": "code",
   "execution_count": 6,
   "metadata": {},
   "outputs": [
    {
     "ename": "NameError",
     "evalue": "name 'df' is not defined",
     "output_type": "error",
     "traceback": [
      "\u001b[1;31m---------------------------------------------------------------------------\u001b[0m",
      "\u001b[1;31mNameError\u001b[0m                                 Traceback (most recent call last)",
      "\u001b[1;32m<ipython-input-6-b6f1d9754a1b>\u001b[0m in \u001b[0;36m<module>\u001b[1;34m\u001b[0m\n\u001b[1;32m----> 1\u001b[1;33m \u001b[0msns\u001b[0m\u001b[1;33m.\u001b[0m\u001b[0mpairplot\u001b[0m\u001b[1;33m(\u001b[0m\u001b[0mdf\u001b[0m\u001b[1;33m.\u001b[0m\u001b[0mheadshotkill\u001b[0m\u001b[1;33m(\u001b[0m\u001b[1;36m500\u001b[0m\u001b[1;33m)\u001b[0m\u001b[1;33m)\u001b[0m\u001b[1;33m;\u001b[0m\u001b[1;33m\u001b[0m\u001b[1;33m\u001b[0m\u001b[0m\n\u001b[0m",
      "\u001b[1;31mNameError\u001b[0m: name 'df' is not defined"
     ]
    }
   ],
   "source": [
    "sns.pairplot(df.headshotkill(500));\n"
   ]
  },
  {
   "cell_type": "markdown",
   "metadata": {},
   "source": [
    "TASK 13"
   ]
  },
  {
   "cell_type": "code",
   "execution_count": 19,
   "metadata": {},
   "outputs": [
    {
     "name": "stdout",
     "output_type": "stream",
     "text": [
      "\n",
      "Unique value in matchType is : ['squad-fpp' 'squad' 'duo-fpp' 'solo-fpp' 'duo' 'solo' 'crashfpp'\n",
      " 'flaretpp' 'normal-squad-fpp' 'normal-duo-fpp' 'flarefpp' 'normal-squad'\n",
      " 'normal-solo-fpp' 'crashtpp']\n",
      "\n",
      "Count of unique value in matchType is : 14\n"
     ]
    }
   ],
   "source": [
    "#How many unique values are there in 'matchType' and what are their counts?\n",
    "uni = pd.unique(df['matchType'])\n",
    "print(\"\\nUnique value in matchType is :\",uni)\n",
    "n_uni = len(uni)\n",
    "print(\"\\nCount of unique value in matchType is :\",n_uni)"
   ]
  },
  {
   "cell_type": "markdown",
   "metadata": {},
   "source": [
    "TASK 14"
   ]
  },
  {
   "cell_type": "code",
   "execution_count": 21,
   "metadata": {},
   "outputs": [
    {
     "data": {
      "image/png": "[encoded data removed]",
      "text/plain": [
       "<Figure size 432x288 with 1 Axes>"
      ]
     },
     "metadata": {
      "needs_background": "light"
     },
     "output_type": "display_data"
    }
   ],
   "source": [
    "#Plot a barplot of ‘matchType’ vs 'killPoints'. Write your inferences.\n",
    "sns.barplot(df['matchType'],df['killPoints']);"
   ]
  },
  {
   "cell_type": "markdown",
   "metadata": {},
   "source": [
    "TASK15"
   ]
  },
  {
   "cell_type": "code",
   "execution_count": 22,
   "metadata": {},
   "outputs": [
    {
     "data": {
      "image/png": "[encoded data removed]",
      "text/plain": [
       "<Figure size 432x288 with 1 Axes>"
      ]
     },
     "metadata": {
      "needs_background": "light"
     },
     "output_type": "display_data"
    }
   ],
   "source": [
    "# Plot a barplot of ‘matchType’ vs ‘weaponsAcquired’. Write your inferences.\n",
    "sns.barplot(df['matchType'],df['weaponsAcquired']);"
   ]
  },
  {
   "cell_type": "markdown",
   "metadata": {},
   "source": [
    "TASK16"
   ]
  },
  {
   "cell_type": "code",
   "execution_count": 23,
   "metadata": {},
   "outputs": [
    {
     "data": {
      "text/plain": [
       "Index([], dtype='object')"
      ]
     },
     "execution_count": 23,
     "metadata": {},
     "output_type": "execute_result"
    }
   ],
   "source": [
    "#Find the Categorical columns.\n",
    "\n",
    "cat_col = df.select_dtypes('category').columns \n",
    "cat_col"
   ]
  },
  {
   "cell_type": "markdown",
   "metadata": {},
   "source": [
    "TASK17"
   ]
  },
  {
   "cell_type": "code",
   "execution_count": 24,
   "metadata": {},
   "outputs": [
    {
     "data": {
      "image/png": "[encoded data removed]",
      "text/plain": [
       "<Figure size 432x288 with 1 Axes>"
      ]
     },
     "metadata": {
      "needs_background": "light"
     },
     "output_type": "display_data"
    }
   ],
   "source": [
    "#Plot a boxplot of ‘matchType’ vs ‘winPlacePerc’. Write your inferences.\n",
    "sns.boxplot(x='matchType', y='winPlacePerc', data=df);"
   ]
  },
  {
   "cell_type": "markdown",
   "metadata": {},
   "source": [
    "TASK18"
   ]
  },
  {
   "cell_type": "code",
   "execution_count": 25,
   "metadata": {},
   "outputs": [
    {
     "data": {
      "image/png": "[encoded data removed]",
      "text/plain": [
       "<Figure size 432x288 with 1 Axes>"
      ]
     },
     "metadata": {
      "needs_background": "light"
     },
     "output_type": "display_data"
    }
   ],
   "source": [
    "#Plot a boxplot of ‘matchType’ vs ‘matchDuration’. Write your inferences.\n",
    "\n",
    "sns.boxplot(x='matchType', y='matchDuration', data=df);"
   ]
  },
  {
   "cell_type": "markdown",
   "metadata": {},
   "source": [
    "TASK19"
   ]
  },
  {
   "cell_type": "code",
   "execution_count": 26,
   "metadata": {},
   "outputs": [
    {
     "data": {
      "image/png": "[encoded data removed]",
      "text/plain": [
       "<Figure size 432x288 with 1 Axes>"
      ]
     },
     "metadata": {
      "needs_background": "light"
     },
     "output_type": "display_data"
    }
   ],
   "source": [
    "#Change the orientation of the above plot to horizontal.\n",
    "\n",
    "sns.boxplot( x='matchDuration', y='matchType',data=df);"
   ]
  },
  {
   "cell_type": "markdown",
   "metadata": {},
   "source": [
    "TASK20"
   ]
  },
  {
   "cell_type": "code",
   "execution_count": 27,
   "metadata": {},
   "outputs": [
    {
     "data": {
      "text/plain": [
       "0       0\n",
       "1       1\n",
       "2       1\n",
       "3       0\n",
       "4       0\n",
       "       ..\n",
       "9995    0\n",
       "9996    0\n",
       "9997    0\n",
       "9998    0\n",
       "9999    0\n",
       "Name: KILL, Length: 10000, dtype: int64"
      ]
     },
     "execution_count": 27,
     "metadata": {},
     "output_type": "execute_result"
    }
   ],
   "source": [
    "#Add a new column called ‘KILL’ which contains the sum of following columns viz. headshotKills, teamKills, roadKills.\n",
    "\n",
    "df['KILL'] = df['headshotKills'] + df['teamKills'] + df['roadKills']\n",
    "df['KILL']"
   ]
  },
  {
   "cell_type": "markdown",
   "metadata": {},
   "source": [
    "TASK21"
   ]
  },
  {
   "cell_type": "code",
   "execution_count": 28,
   "metadata": {},
   "outputs": [
    {
     "data": {
      "text/plain": [
       "0       0.00\n",
       "1       0.22\n",
       "2       0.86\n",
       "3       0.35\n",
       "4       0.07\n",
       "        ... \n",
       "9995    0.83\n",
       "9996    0.72\n",
       "9997    0.21\n",
       "9998    0.24\n",
       "9999    0.19\n",
       "Name: winPlacePerc, Length: 10000, dtype: float64"
      ]
     },
     "execution_count": 28,
     "metadata": {},
     "output_type": "execute_result"
    }
   ],
   "source": [
    "#Round off column ‘winPlacePerc’ to 2 decimals.\n",
    "\n",
    "df['winPlacePerc'].round(decimals=2)"
   ]
  },
  {
   "cell_type": "markdown",
   "metadata": {},
   "source": [
    "TASK22"
   ]
  },
  {
   "cell_type": "code",
   "execution_count": null,
   "metadata": {},
   "outputs": [],
   "source": [
    "mean = []\n",
    "\n",
    "for i in range(100):\n",
    "  \n",
    "  for x in range(0,1001,50):\n",
    "    \n",
    "    mean1 = df['damageDealt'].head(x).mean()\n",
    "    mean.append(mean1)\n",
    " \n"
   ]
  },
  {
   "cell_type": "code",
   "execution_count": null,
   "metadata": {},
   "outputs": [],
   "source": [
    "sns.histplot(data=df['damageDealt'], x=mean)"
   ]
  }
 ],
 "metadata": {
  "kernelspec": {
   "display_name": "Python 3",
   "language": "python",
   "name": "python3"
  },
  "language_info": {
   "codemirror_mode": {
    "name": "ipython",
    "version": 3
   },
   "file_extension": ".py",
   "mimetype": "text/x-python",
   "name": "python",
   "nbconvert_exporter": "python",
   "pygments_lexer": "ipython3",
   "version": "3.8.3"
  }
 },
 "nbformat": 4,
 "nbformat_minor": 4
}
